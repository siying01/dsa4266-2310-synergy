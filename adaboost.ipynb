{
 "cells": [
  {
   "cell_type": "markdown",
   "metadata": {},
   "source": [
    "# Bag-Level Representation with Adaboost"
   ]
  },
  {
   "cell_type": "markdown",
   "metadata": {},
   "source": [
    "## Set-up"
   ]
  },
  {
   "cell_type": "code",
   "execution_count": 216,
   "metadata": {},
   "outputs": [],
   "source": [
    "# import dependencies\n",
    "import numpy as np\n",
    "import pandas as pd\n",
    "import seaborn as sns\n",
    "import matplotlib.pyplot as plt\n",
    "import plotly.express as px\n",
    "from sklearn.ensemble import AdaBoostClassifier\n",
    "from sklearn.tree import DecisionTreeClassifier\n",
    "from sklearn.model_selection import GridSearchCV\n",
    "from sklearn.metrics import confusion_matrix\n",
    "from sklearn.metrics import accuracy_score, balanced_accuracy_score, precision_score, recall_score, f1_score\n",
    "from sklearn.metrics import roc_curve, roc_auc_score, auc, precision_recall_curve, average_precision_score"
   ]
  },
  {
   "cell_type": "code",
   "execution_count": 17,
   "metadata": {},
   "outputs": [],
   "source": [
    "# split the data into 5 folds\n",
    "# seed = 1\n",
    "# np.random.seed(seed)\n",
    "!python separating_folds.py"
   ]
  },
  {
   "cell_type": "code",
   "execution_count": 18,
   "metadata": {},
   "outputs": [],
   "source": [
    "df = pd.read_csv(\"training_data.csv\")"
   ]
  },
  {
   "cell_type": "markdown",
   "metadata": {},
   "source": [
    "## Feature Engineering"
   ]
  },
  {
   "cell_type": "code",
   "execution_count": 22,
   "metadata": {},
   "outputs": [],
   "source": [
    "def kurt(x):\n",
    "    return x.kurt()\n",
    "\n",
    "agg_funcs = {\n",
    "    \"time_1\": [\"mean\", \"std\", \"sem\", \"skew\", kurt, \"max\", \"min\"],\n",
    "    \"stddev_1\": [\"mean\", \"std\", \"sem\", \"skew\", kurt, \"max\", \"min\"],\n",
    "    \"mean_current_1\": [\"mean\", \"std\", \"sem\", \"skew\", kurt, \"max\", \"min\"],\n",
    "    \"time_2\": [\"mean\", \"std\", \"sem\", \"skew\", kurt, \"max\", \"min\"],\n",
    "    \"stddev_2\": [\"mean\", \"std\", \"sem\", \"skew\", kurt, \"max\", \"min\"],\n",
    "    \"mean_current_2\": [\"mean\", \"std\", \"sem\", \"skew\", kurt, \"max\", \"min\"],\n",
    "    \"time_3\": [\"mean\", \"std\", \"sem\", \"skew\", kurt, \"max\", \"min\"],\n",
    "    \"stddev_3\": [\"mean\", \"std\", \"sem\", \"skew\", kurt, \"max\", \"min\"],\n",
    "    \"mean_current_3\": [\"mean\", \"std\", \"sem\", \"skew\", kurt, \"max\", \"min\"],\n",
    "    \"label\": [\"mean\"],\n",
    "    'folds': [\"mean\"]\n",
    "}"
   ]
  },
  {
   "cell_type": "code",
   "execution_count": 24,
   "metadata": {},
   "outputs": [],
   "source": [
    "result = df.groupby([\"gene_id\", \"transcript_id\",\"transcript_position\"], as_index=False).agg(agg_funcs)\n",
    "result.columns = [f'{col[0]}_{col[1]}' for col in result.columns]\n",
    "result = result.rename(columns={\"label_mean\": \"label\", \"folds_mean\":\"folds\"})\n",
    "result['label'] = result['label'].astype(int)\n",
    "result['folds'] = result['folds'].astype(int)"
   ]
  },
  {
   "cell_type": "code",
   "execution_count": 25,
   "metadata": {},
   "outputs": [
    {
     "data": {
      "text/html": [
       "<div>\n",
       "<style scoped>\n",
       "    .dataframe tbody tr th:only-of-type {\n",
       "        vertical-align: middle;\n",
       "    }\n",
       "\n",
       "    .dataframe tbody tr th {\n",
       "        vertical-align: top;\n",
       "    }\n",
       "\n",
       "    .dataframe thead th {\n",
       "        text-align: right;\n",
       "    }\n",
       "</style>\n",
       "<table border=\"1\" class=\"dataframe\">\n",
       "  <thead>\n",
       "    <tr style=\"text-align: right;\">\n",
       "      <th></th>\n",
       "      <th>gene_id_</th>\n",
       "      <th>transcript_id_</th>\n",
       "      <th>transcript_position_</th>\n",
       "      <th>time_1_mean</th>\n",
       "      <th>time_1_std</th>\n",
       "      <th>time_1_sem</th>\n",
       "      <th>time_1_skew</th>\n",
       "      <th>time_1_kurt</th>\n",
       "      <th>time_1_max</th>\n",
       "      <th>time_1_min</th>\n",
       "      <th>...</th>\n",
       "      <th>stddev_3_min</th>\n",
       "      <th>mean_current_3_mean</th>\n",
       "      <th>mean_current_3_std</th>\n",
       "      <th>mean_current_3_sem</th>\n",
       "      <th>mean_current_3_skew</th>\n",
       "      <th>mean_current_3_kurt</th>\n",
       "      <th>mean_current_3_max</th>\n",
       "      <th>mean_current_3_min</th>\n",
       "      <th>label</th>\n",
       "      <th>folds</th>\n",
       "    </tr>\n",
       "  </thead>\n",
       "  <tbody>\n",
       "    <tr>\n",
       "      <th>0</th>\n",
       "      <td>ENSG00000000003</td>\n",
       "      <td>ENST00000373020</td>\n",
       "      <td>512</td>\n",
       "      <td>0.007247</td>\n",
       "      <td>0.004404</td>\n",
       "      <td>0.000985</td>\n",
       "      <td>1.084484</td>\n",
       "      <td>-0.127559</td>\n",
       "      <td>0.0169</td>\n",
       "      <td>0.00266</td>\n",
       "      <td>...</td>\n",
       "      <td>0.917</td>\n",
       "      <td>92.330000</td>\n",
       "      <td>2.258574</td>\n",
       "      <td>0.505033</td>\n",
       "      <td>-3.353925</td>\n",
       "      <td>13.491952</td>\n",
       "      <td>94.5</td>\n",
       "      <td>83.5</td>\n",
       "      <td>0</td>\n",
       "      <td>2</td>\n",
       "    </tr>\n",
       "    <tr>\n",
       "      <th>1</th>\n",
       "      <td>ENSG00000000003</td>\n",
       "      <td>ENST00000373020</td>\n",
       "      <td>689</td>\n",
       "      <td>0.009868</td>\n",
       "      <td>0.006946</td>\n",
       "      <td>0.001516</td>\n",
       "      <td>1.311306</td>\n",
       "      <td>0.969305</td>\n",
       "      <td>0.0279</td>\n",
       "      <td>0.00232</td>\n",
       "      <td>...</td>\n",
       "      <td>1.350</td>\n",
       "      <td>89.385714</td>\n",
       "      <td>2.113122</td>\n",
       "      <td>0.461121</td>\n",
       "      <td>-0.689415</td>\n",
       "      <td>0.862216</td>\n",
       "      <td>93.5</td>\n",
       "      <td>84.3</td>\n",
       "      <td>0</td>\n",
       "      <td>2</td>\n",
       "    </tr>\n",
       "    <tr>\n",
       "      <th>2</th>\n",
       "      <td>ENSG00000000003</td>\n",
       "      <td>ENST00000373020</td>\n",
       "      <td>823</td>\n",
       "      <td>0.007456</td>\n",
       "      <td>0.003799</td>\n",
       "      <td>0.000829</td>\n",
       "      <td>1.907891</td>\n",
       "      <td>4.444759</td>\n",
       "      <td>0.0196</td>\n",
       "      <td>0.00299</td>\n",
       "      <td>...</td>\n",
       "      <td>1.460</td>\n",
       "      <td>88.176190</td>\n",
       "      <td>2.420517</td>\n",
       "      <td>0.528200</td>\n",
       "      <td>0.358926</td>\n",
       "      <td>-0.426787</td>\n",
       "      <td>93.1</td>\n",
       "      <td>84.7</td>\n",
       "      <td>0</td>\n",
       "      <td>2</td>\n",
       "    </tr>\n",
       "    <tr>\n",
       "      <th>3</th>\n",
       "      <td>ENSG00000000003</td>\n",
       "      <td>ENST00000373020</td>\n",
       "      <td>830</td>\n",
       "      <td>0.007765</td>\n",
       "      <td>0.004869</td>\n",
       "      <td>0.001089</td>\n",
       "      <td>1.781124</td>\n",
       "      <td>3.707942</td>\n",
       "      <td>0.0226</td>\n",
       "      <td>0.00266</td>\n",
       "      <td>...</td>\n",
       "      <td>1.210</td>\n",
       "      <td>80.110000</td>\n",
       "      <td>1.523120</td>\n",
       "      <td>0.340580</td>\n",
       "      <td>0.589444</td>\n",
       "      <td>0.070561</td>\n",
       "      <td>83.8</td>\n",
       "      <td>77.9</td>\n",
       "      <td>0</td>\n",
       "      <td>2</td>\n",
       "    </tr>\n",
       "    <tr>\n",
       "      <th>4</th>\n",
       "      <td>ENSG00000000003</td>\n",
       "      <td>ENST00000373020</td>\n",
       "      <td>849</td>\n",
       "      <td>0.006785</td>\n",
       "      <td>0.003115</td>\n",
       "      <td>0.000680</td>\n",
       "      <td>2.533371</td>\n",
       "      <td>8.574765</td>\n",
       "      <td>0.0181</td>\n",
       "      <td>0.00332</td>\n",
       "      <td>...</td>\n",
       "      <td>1.100</td>\n",
       "      <td>84.657143</td>\n",
       "      <td>2.048798</td>\n",
       "      <td>0.447084</td>\n",
       "      <td>1.475521</td>\n",
       "      <td>2.519809</td>\n",
       "      <td>90.7</td>\n",
       "      <td>82.3</td>\n",
       "      <td>0</td>\n",
       "      <td>2</td>\n",
       "    </tr>\n",
       "  </tbody>\n",
       "</table>\n",
       "<p>5 rows × 68 columns</p>\n",
       "</div>"
      ],
      "text/plain": [
       "          gene_id_   transcript_id_  transcript_position_  time_1_mean  \\\n",
       "0  ENSG00000000003  ENST00000373020                   512     0.007247   \n",
       "1  ENSG00000000003  ENST00000373020                   689     0.009868   \n",
       "2  ENSG00000000003  ENST00000373020                   823     0.007456   \n",
       "3  ENSG00000000003  ENST00000373020                   830     0.007765   \n",
       "4  ENSG00000000003  ENST00000373020                   849     0.006785   \n",
       "\n",
       "   time_1_std  time_1_sem  time_1_skew  time_1_kurt  time_1_max  time_1_min  \\\n",
       "0    0.004404    0.000985     1.084484    -0.127559      0.0169     0.00266   \n",
       "1    0.006946    0.001516     1.311306     0.969305      0.0279     0.00232   \n",
       "2    0.003799    0.000829     1.907891     4.444759      0.0196     0.00299   \n",
       "3    0.004869    0.001089     1.781124     3.707942      0.0226     0.00266   \n",
       "4    0.003115    0.000680     2.533371     8.574765      0.0181     0.00332   \n",
       "\n",
       "   ...  stddev_3_min  mean_current_3_mean  mean_current_3_std  \\\n",
       "0  ...         0.917            92.330000            2.258574   \n",
       "1  ...         1.350            89.385714            2.113122   \n",
       "2  ...         1.460            88.176190            2.420517   \n",
       "3  ...         1.210            80.110000            1.523120   \n",
       "4  ...         1.100            84.657143            2.048798   \n",
       "\n",
       "   mean_current_3_sem  mean_current_3_skew  mean_current_3_kurt  \\\n",
       "0            0.505033            -3.353925            13.491952   \n",
       "1            0.461121            -0.689415             0.862216   \n",
       "2            0.528200             0.358926            -0.426787   \n",
       "3            0.340580             0.589444             0.070561   \n",
       "4            0.447084             1.475521             2.519809   \n",
       "\n",
       "   mean_current_3_max  mean_current_3_min  label  folds  \n",
       "0                94.5                83.5      0      2  \n",
       "1                93.5                84.3      0      2  \n",
       "2                93.1                84.7      0      2  \n",
       "3                83.8                77.9      0      2  \n",
       "4                90.7                82.3      0      2  \n",
       "\n",
       "[5 rows x 68 columns]"
      ]
     },
     "execution_count": 25,
     "metadata": {},
     "output_type": "execute_result"
    }
   ],
   "source": [
    "result.head()"
   ]
  },
  {
   "cell_type": "code",
   "execution_count": 26,
   "metadata": {},
   "outputs": [
    {
     "data": {
      "text/plain": [
       "(121838, 68)"
      ]
     },
     "execution_count": 26,
     "metadata": {},
     "output_type": "execute_result"
    }
   ],
   "source": [
    "result.shape"
   ]
  },
  {
   "cell_type": "code",
   "execution_count": 27,
   "metadata": {},
   "outputs": [],
   "source": [
    "result.to_csv(\"fe_data.csv\")"
   ]
  },
  {
   "cell_type": "markdown",
   "metadata": {},
   "source": [
    "## Model Training"
   ]
  },
  {
   "cell_type": "markdown",
   "metadata": {},
   "source": [
    "### Initialisation"
   ]
  },
  {
   "cell_type": "code",
   "execution_count": null,
   "metadata": {},
   "outputs": [],
   "source": [
    "data = result"
   ]
  },
  {
   "cell_type": "code",
   "execution_count": 129,
   "metadata": {},
   "outputs": [
    {
     "data": {
      "text/plain": [
       "[[DecisionTreeClassifier(max_depth=1), 50, 0.01],\n",
       " [DecisionTreeClassifier(max_depth=1), 50, 0.1],\n",
       " [DecisionTreeClassifier(max_depth=1), 50, 1.0],\n",
       " [DecisionTreeClassifier(max_depth=1), 100, 0.01],\n",
       " [DecisionTreeClassifier(max_depth=1), 100, 0.1],\n",
       " [DecisionTreeClassifier(max_depth=1), 100, 1.0],\n",
       " [DecisionTreeClassifier(max_depth=2), 50, 0.01],\n",
       " [DecisionTreeClassifier(max_depth=2), 50, 0.1],\n",
       " [DecisionTreeClassifier(max_depth=2), 50, 1.0],\n",
       " [DecisionTreeClassifier(max_depth=2), 100, 0.01],\n",
       " [DecisionTreeClassifier(max_depth=2), 100, 0.1],\n",
       " [DecisionTreeClassifier(max_depth=2), 100, 1.0]]"
      ]
     },
     "execution_count": 129,
     "metadata": {},
     "output_type": "execute_result"
    }
   ],
   "source": [
    "num_folds = 5\n",
    "\n",
    "# hyperparameters to tune for\n",
    "base_estimators = [DecisionTreeClassifier(max_depth=1), DecisionTreeClassifier(max_depth=2)]\n",
    "n_estimators = [50, 100]\n",
    "learning_rates = [0.01, 0.1, 1.0]\n",
    "num_combinations = len(base_estimators)*len(n_estimators)*len(learning_rates)\n",
    "\n",
    "# to store the predictions from each set of hyperparameters on each fold\n",
    "preds = [[None for _ in range(num_combinations)] for _ in range(num_folds)]\n",
    "\n",
    "# store column names of preds\n",
    "col_names = []\n",
    "for base_estimator in base_estimators:\n",
    "        for n_estimator in n_estimators:\n",
    "            for learning_rate in learning_rates:\n",
    "                col_names.append([base_estimator, n_estimator, learning_rate])\n",
    "col_names"
   ]
  },
  {
   "cell_type": "markdown",
   "metadata": {},
   "source": [
    "### Manual Hyperparameter Tuning"
   ]
  },
  {
   "cell_type": "code",
   "execution_count": 132,
   "metadata": {},
   "outputs": [
    {
     "name": "stdout",
     "output_type": "stream",
     "text": [
      "0 1\n",
      "0 2\n",
      "0 3\n",
      "0 4\n",
      "0 5\n",
      "0 6\n",
      "0 7\n",
      "0 8\n",
      "0 9\n",
      "0 10\n",
      "0 11\n",
      "0 12\n",
      "1 1\n",
      "1 2\n",
      "1 3\n",
      "1 4\n",
      "1 5\n",
      "1 6\n",
      "1 7\n",
      "1 8\n",
      "1 9\n",
      "1 10\n",
      "1 11\n",
      "1 12\n",
      "2 1\n",
      "2 2\n",
      "2 3\n",
      "2 4\n",
      "2 5\n",
      "2 6\n",
      "2 7\n",
      "2 8\n",
      "2 9\n",
      "2 10\n",
      "2 11\n",
      "2 12\n",
      "3 1\n",
      "3 2\n",
      "3 3\n",
      "3 4\n",
      "3 5\n",
      "3 6\n",
      "3 7\n",
      "3 8\n",
      "3 9\n",
      "3 10\n",
      "3 11\n",
      "3 12\n",
      "4 1\n",
      "4 2\n",
      "4 3\n",
      "4 4\n",
      "4 5\n",
      "4 6\n",
      "4 7\n",
      "4 8\n",
      "4 9\n",
      "4 10\n",
      "4 11\n",
      "4 12\n"
     ]
    }
   ],
   "source": [
    "for fold in range(1,num_folds+1):\n",
    "    row = fold - 1\n",
    "    col = 0\n",
    "    train_data = data[data[\"folds\"]!=fold]\n",
    "    test_data = data[data[\"folds\"]==fold]\n",
    "    X_train = train_data.loc[:, \"time_1_mean\":\"mean_current_3_min\"]\n",
    "    y_train = train_data.loc[:, \"label\"]\n",
    "    X_test = test_data.loc[:, \"time_1_mean\":\"mean_current_3_min\"]\n",
    "    y_test = test_data.loc[:, \"label\"]\n",
    "\n",
    "    minority_perc = sum(y_test==1) / len(y_test)\n",
    "    sample_weights = [1.0 if label==0 else 1/minority_perc for label in y_train]\n",
    "    \n",
    "    for base_estimator in base_estimators:\n",
    "        for n_estimator in n_estimators:\n",
    "            for learning_rate in learning_rates:\n",
    "                adaboost_classifier = AdaBoostClassifier(base_estimator=base_estimator,\n",
    "                                                         n_estimators=n_estimator,\n",
    "                                                         learning_rate=learning_rate)\n",
    "                adaboost_classifier.fit(X_train, y_train, sample_weight=sample_weights)\n",
    "                \n",
    "                class_probabilities = adaboost_classifier.predict_proba(X_test)\n",
    "                y_scores = adaboost_classifier.predict_proba(X_test)[:, 1]  # probability of class 1\n",
    "                preds[row][col] = y_scores\n",
    "                col += 1\n",
    "                print(row, col)"
   ]
  },
  {
   "cell_type": "markdown",
   "metadata": {},
   "source": [
    "## Models Evaluation"
   ]
  },
  {
   "cell_type": "markdown",
   "metadata": {},
   "source": [
    "#### Metrics Computation"
   ]
  },
  {
   "cell_type": "code",
   "execution_count": 150,
   "metadata": {},
   "outputs": [],
   "source": [
    "accuracy = np.zeros(shape=(num_folds, num_combinations))\n",
    "balanced_accuracy = np.zeros(shape=(num_folds, num_combinations))    # average of recall obtained on each class\n",
    "precision = np.zeros(shape=(num_folds, num_combinations))\n",
    "recall = np.zeros(shape=(num_folds, num_combinations))\n",
    "f1 = np.zeros(shape=(num_folds, num_combinations))\n",
    "roc_auc = np.zeros(shape=(num_folds, num_combinations))    # area under the ROC curve\n",
    "average_precision = np.zeros(shape=(num_folds, num_combinations))    # area under the Precision-Recall curve\n",
    "\n",
    "\n",
    "for fold in range(1, num_folds+1):\n",
    "    train_data = data[data[\"folds\"]!=fold]\n",
    "    test_data = data[data[\"folds\"]==fold]\n",
    "    y_train = train_data.loc[:, \"label\"]\n",
    "    y_true = test_data.loc[:, \"label\"]\n",
    "    # minority_perc = sum(y_true==1) / len(y_true)\n",
    "    # sample_weight = [1.0 if label==0 else 1/minority_perc for label in y_train]\n",
    "    row = fold - 1\n",
    "    \n",
    "    for col in range(num_combinations):\n",
    "        y_pred = preds[row][col]\n",
    "        roc_auc[row,col] = roc_auc_score(y_true, y_pred)     \n",
    "        average_precision[row,col] = average_precision_score(y_true, y_pred)     \n",
    "        \n",
    "        # using decision rule of 0.5\n",
    "        threshold = 0.5\n",
    "        y_pred_label =  np.array([1 if prob>threshold else 0 for prob in y_pred])\n",
    "        accuracy[row,col] = accuracy_score(y_true, y_pred_label)\n",
    "        # balanced_accuracy[row,col] = balanced_accuracy_score(y_true, y_pred_label, sample_weight)\n",
    "        balanced_accuracy[row,col] = balanced_accuracy_score(y_true, y_pred_label)\n",
    "        precision[row,col] = precision_score(y_true, y_pred_label)\n",
    "        recall[row,col] = recall_score(y_true, y_pred_label)\n",
    "        f1[row,col] = f1_score(y_true, y_pred_label)"
   ]
  },
  {
   "cell_type": "code",
   "execution_count": 151,
   "metadata": {},
   "outputs": [],
   "source": [
    "# averaged across all 5 folds\n",
    "avg_accuracy = np.mean(accuracy, axis=0)\n",
    "avg_balanced_accuracy = np.mean(balanced_accuracy, axis=0)    \n",
    "avg_precision = np.mean(precision, axis=0)\n",
    "avg_recall = np.mean(recall, axis=0)\n",
    "avg_f1 = np.mean(f1, axis=0)\n",
    "avg_roc_auc = np.mean(roc_auc, axis=0)\n",
    "avg_average_precision = np.mean(average_precision, axis=0)"
   ]
  },
  {
   "cell_type": "markdown",
   "metadata": {},
   "source": [
    "#### Plots"
   ]
  },
  {
   "cell_type": "code",
   "execution_count": 222,
   "metadata": {},
   "outputs": [],
   "source": [
    "legend_labels = []\n",
    "for i in col_names:\n",
    "    decision_tree_depth = str(i[0])[-2]\n",
    "    n_estimators = str(i[1])\n",
    "    learning_rate = str(i[2])\n",
    "    label = \"decision_tree_depth=\" + decision_tree_depth + \", \" + \"n_estimators=\" + n_estimators + \", \" + \"learning_rate=\" + learning_rate\n",
    "    legend_labels.append(label)\n",
    "    \n",
    "metrics_dict = {'legend_label': legend_labels,\n",
    "                'base_estimator': np.array(col_names)[:,0].astype(str),\n",
    "                'n_estimators': np.array(col_names)[:,1],\n",
    "                'learning_rate': np.array(col_names)[:,2],\n",
    "                'accuracy': avg_accuracy, \n",
    "                'balanced_accuracy': avg_balanced_accuracy, \n",
    "                'precision': avg_precision,\n",
    "                'recall': avg_recall,\n",
    "                'f1': avg_f1,\n",
    "                'roc_auc': avg_roc_auc,\n",
    "                'average_precision': avg_average_precision}\n",
    "metrics_df = pd.DataFrame(data=metrics_dict)\n",
    "long_metrics_df = pd.melt(metrics_df, id_vars=['legend_label','base_estimator','n_estimators','learning_rate'], \n",
    "                          var_name='Metric', value_name='Score')"
   ]
  },
  {
   "cell_type": "markdown",
   "metadata": {},
   "source": [
    "##### Interactive Plot"
   ]
  },
  {
   "cell_type": "code",
   "execution_count": 231,
   "metadata": {},
   "outputs": [
    {
     "data": {
      "application/vnd.plotly.v1+json": {
       "config": {
        "plotlyServerURL": "https://plot.ly"
       },
       "data": [
        {
         "hovertemplate": "Hyperparameter Combination=decision_tree_depth=1, n_estimators=50, learning_rate=0.01<br>Metric=%{x}<br>Score=%{y}<extra></extra>",
         "legendgroup": "decision_tree_depth=1, n_estimators=50, learning_rate=0.01",
         "line": {
          "color": "#636efa",
          "dash": "solid"
         },
         "marker": {
          "symbol": "circle"
         },
         "mode": "lines",
         "name": "decision_tree_depth=1, n_estimators=50, learning_rate=0.01",
         "orientation": "v",
         "showlegend": true,
         "type": "scatter",
         "x": [
          "accuracy",
          "balanced_accuracy",
          "precision",
          "recall",
          "f1",
          "roc_auc",
          "average_precision"
         ],
         "xaxis": "x",
         "y": [
          0.5468767043737438,
          0.667439462324152,
          0.07482095062747882,
          0.7998640550087832,
          0.13677520625009237,
          0.7114898434244324,
          0.08166376273372587
         ],
         "yaxis": "y"
        },
        {
         "hovertemplate": "Hyperparameter Combination=decision_tree_depth=1, n_estimators=50, learning_rate=0.1<br>Metric=%{x}<br>Score=%{y}<extra></extra>",
         "legendgroup": "decision_tree_depth=1, n_estimators=50, learning_rate=0.1",
         "line": {
          "color": "#EF553B",
          "dash": "solid"
         },
         "marker": {
          "symbol": "circle"
         },
         "mode": "lines",
         "name": "decision_tree_depth=1, n_estimators=50, learning_rate=0.1",
         "orientation": "v",
         "showlegend": true,
         "type": "scatter",
         "x": [
          "accuracy",
          "balanced_accuracy",
          "precision",
          "recall",
          "f1",
          "roc_auc",
          "average_precision"
         ],
         "xaxis": "x",
         "y": [
          0.6749013814029119,
          0.7253607734632009,
          0.10132744100756656,
          0.7805238551534975,
          0.17875039005710283,
          0.8211516777732694,
          0.2411155948847819
         ],
         "yaxis": "y"
        },
        {
         "hovertemplate": "Hyperparameter Combination=decision_tree_depth=1, n_estimators=50, learning_rate=1.0<br>Metric=%{x}<br>Score=%{y}<extra></extra>",
         "legendgroup": "decision_tree_depth=1, n_estimators=50, learning_rate=1.0",
         "line": {
          "color": "#00cc96",
          "dash": "solid"
         },
         "marker": {
          "symbol": "circle"
         },
         "mode": "lines",
         "name": "decision_tree_depth=1, n_estimators=50, learning_rate=1.0",
         "orientation": "v",
         "showlegend": true,
         "type": "scatter",
         "x": [
          "accuracy",
          "balanced_accuracy",
          "precision",
          "recall",
          "f1",
          "roc_auc",
          "average_precision"
         ],
         "xaxis": "x",
         "y": [
          0.7995771137365129,
          0.7937709918732354,
          0.15723521748642671,
          0.7873449509449241,
          0.2615999185671208,
          0.8721564450886907,
          0.3499104442206843
         ],
         "yaxis": "y"
        },
        {
         "hovertemplate": "Hyperparameter Combination=decision_tree_depth=1, n_estimators=100, learning_rate=0.01<br>Metric=%{x}<br>Score=%{y}<extra></extra>",
         "legendgroup": "decision_tree_depth=1, n_estimators=100, learning_rate=0.01",
         "line": {
          "color": "#ab63fa",
          "dash": "solid"
         },
         "marker": {
          "symbol": "circle"
         },
         "mode": "lines",
         "name": "decision_tree_depth=1, n_estimators=100, learning_rate=0.01",
         "orientation": "v",
         "showlegend": true,
         "type": "scatter",
         "x": [
          "accuracy",
          "balanced_accuracy",
          "precision",
          "recall",
          "f1",
          "roc_auc",
          "average_precision"
         ],
         "xaxis": "x",
         "y": [
          0.5848189930137151,
          0.679200735253217,
          0.08012138652871478,
          0.7827207539595643,
          0.145153505615766,
          0.7394004711301408,
          0.09930033712361411
         ],
         "yaxis": "y"
        },
        {
         "hovertemplate": "Hyperparameter Combination=decision_tree_depth=1, n_estimators=100, learning_rate=0.1<br>Metric=%{x}<br>Score=%{y}<extra></extra>",
         "legendgroup": "decision_tree_depth=1, n_estimators=100, learning_rate=0.1",
         "line": {
          "color": "#FFA15A",
          "dash": "solid"
         },
         "marker": {
          "symbol": "circle"
         },
         "mode": "lines",
         "name": "decision_tree_depth=1, n_estimators=100, learning_rate=0.1",
         "orientation": "v",
         "showlegend": true,
         "type": "scatter",
         "x": [
          "accuracy",
          "balanced_accuracy",
          "precision",
          "recall",
          "f1",
          "roc_auc",
          "average_precision"
         ],
         "xaxis": "x",
         "y": [
          0.7342240765696482,
          0.7613297030715096,
          0.12318280587013346,
          0.7908687205335043,
          0.212361939018878,
          0.8474134133620893,
          0.2899114936761191
         ],
         "yaxis": "y"
        },
        {
         "hovertemplate": "Hyperparameter Combination=decision_tree_depth=1, n_estimators=100, learning_rate=1.0<br>Metric=%{x}<br>Score=%{y}<extra></extra>",
         "legendgroup": "decision_tree_depth=1, n_estimators=100, learning_rate=1.0",
         "line": {
          "color": "#19d3f3",
          "dash": "solid"
         },
         "marker": {
          "symbol": "circle"
         },
         "mode": "lines",
         "name": "decision_tree_depth=1, n_estimators=100, learning_rate=1.0",
         "orientation": "v",
         "showlegend": true,
         "type": "scatter",
         "x": [
          "accuracy",
          "balanced_accuracy",
          "precision",
          "recall",
          "f1",
          "roc_auc",
          "average_precision"
         ],
         "xaxis": "x",
         "y": [
          0.811954146923952,
          0.8035361781502715,
          0.16727465687846882,
          0.794231734933421,
          0.2757831169184494,
          0.880733585531905,
          0.3698609984709025
         ],
         "yaxis": "y"
        },
        {
         "hovertemplate": "Hyperparameter Combination=decision_tree_depth=2, n_estimators=50, learning_rate=0.01<br>Metric=%{x}<br>Score=%{y}<extra></extra>",
         "legendgroup": "decision_tree_depth=2, n_estimators=50, learning_rate=0.01",
         "line": {
          "color": "#FF6692",
          "dash": "solid"
         },
         "marker": {
          "symbol": "circle"
         },
         "mode": "lines",
         "name": "decision_tree_depth=2, n_estimators=50, learning_rate=0.01",
         "orientation": "v",
         "showlegend": true,
         "type": "scatter",
         "x": [
          "accuracy",
          "balanced_accuracy",
          "precision",
          "recall",
          "f1",
          "roc_auc",
          "average_precision"
         ],
         "xaxis": "x",
         "y": [
          0.6047214662702484,
          0.6886774861826344,
          0.08449875004214544,
          0.7806664831551438,
          0.15203570475297784,
          0.773970698741093,
          0.1304165692902401
         ],
         "yaxis": "y"
        },
        {
         "hovertemplate": "Hyperparameter Combination=decision_tree_depth=2, n_estimators=50, learning_rate=0.1<br>Metric=%{x}<br>Score=%{y}<extra></extra>",
         "legendgroup": "decision_tree_depth=2, n_estimators=50, learning_rate=0.1",
         "line": {
          "color": "#B6E880",
          "dash": "solid"
         },
         "marker": {
          "symbol": "circle"
         },
         "mode": "lines",
         "name": "decision_tree_depth=2, n_estimators=50, learning_rate=0.1",
         "orientation": "v",
         "showlegend": true,
         "type": "scatter",
         "x": [
          "accuracy",
          "balanced_accuracy",
          "precision",
          "recall",
          "f1",
          "roc_auc",
          "average_precision"
         ],
         "xaxis": "x",
         "y": [
          0.7710774186578864,
          0.7933084062926534,
          0.14390033666552,
          0.8175550064412469,
          0.2439634649891657,
          0.873383235386377,
          0.3337172615800006
         ],
         "yaxis": "y"
        },
        {
         "hovertemplate": "Hyperparameter Combination=decision_tree_depth=2, n_estimators=50, learning_rate=1.0<br>Metric=%{x}<br>Score=%{y}<extra></extra>",
         "legendgroup": "decision_tree_depth=2, n_estimators=50, learning_rate=1.0",
         "line": {
          "color": "#FF97FF",
          "dash": "solid"
         },
         "marker": {
          "symbol": "circle"
         },
         "mode": "lines",
         "name": "decision_tree_depth=2, n_estimators=50, learning_rate=1.0",
         "orientation": "v",
         "showlegend": true,
         "type": "scatter",
         "x": [
          "accuracy",
          "balanced_accuracy",
          "precision",
          "recall",
          "f1",
          "roc_auc",
          "average_precision"
         ],
         "xaxis": "x",
         "y": [
          0.8304642446055395,
          0.812957037382294,
          0.18289215456968827,
          0.7936826666064144,
          0.2966861264153214,
          0.888329061157475,
          0.37857977189505326
         ],
         "yaxis": "y"
        },
        {
         "hovertemplate": "Hyperparameter Combination=decision_tree_depth=2, n_estimators=100, learning_rate=0.01<br>Metric=%{x}<br>Score=%{y}<extra></extra>",
         "legendgroup": "decision_tree_depth=2, n_estimators=100, learning_rate=0.01",
         "line": {
          "color": "#FECB52",
          "dash": "solid"
         },
         "marker": {
          "symbol": "circle"
         },
         "mode": "lines",
         "name": "decision_tree_depth=2, n_estimators=100, learning_rate=0.01",
         "orientation": "v",
         "showlegend": true,
         "type": "scatter",
         "x": [
          "accuracy",
          "balanced_accuracy",
          "precision",
          "recall",
          "f1",
          "roc_auc",
          "average_precision"
         ],
         "xaxis": "x",
         "y": [
          0.6440462541702567,
          0.7131726862063725,
          0.09352965303929525,
          0.7888881906028027,
          0.1668079545454854,
          0.8083451626380158,
          0.22066320551452487
         ],
         "yaxis": "y"
        },
        {
         "hovertemplate": "Hyperparameter Combination=decision_tree_depth=2, n_estimators=100, learning_rate=0.1<br>Metric=%{x}<br>Score=%{y}<extra></extra>",
         "legendgroup": "decision_tree_depth=2, n_estimators=100, learning_rate=0.1",
         "line": {
          "color": "#636efa",
          "dash": "solid"
         },
         "marker": {
          "symbol": "circle"
         },
         "mode": "lines",
         "name": "decision_tree_depth=2, n_estimators=100, learning_rate=0.1",
         "orientation": "v",
         "showlegend": true,
         "type": "scatter",
         "x": [
          "accuracy",
          "balanced_accuracy",
          "precision",
          "recall",
          "f1",
          "roc_auc",
          "average_precision"
         ],
         "xaxis": "x",
         "y": [
          0.804643166607811,
          0.814105451043701,
          0.16630735894368137,
          0.8243954647236628,
          0.2760005826458145,
          0.8906897564303679,
          0.38326224552461174
         ],
         "yaxis": "y"
        },
        {
         "hovertemplate": "Hyperparameter Combination=decision_tree_depth=2, n_estimators=100, learning_rate=1.0<br>Metric=%{x}<br>Score=%{y}<extra></extra>",
         "legendgroup": "decision_tree_depth=2, n_estimators=100, learning_rate=1.0",
         "line": {
          "color": "#EF553B",
          "dash": "solid"
         },
         "marker": {
          "symbol": "circle"
         },
         "mode": "lines",
         "name": "decision_tree_depth=2, n_estimators=100, learning_rate=1.0",
         "orientation": "v",
         "showlegend": true,
         "type": "scatter",
         "x": [
          "accuracy",
          "balanced_accuracy",
          "precision",
          "recall",
          "f1",
          "roc_auc",
          "average_precision"
         ],
         "xaxis": "x",
         "y": [
          0.8488975758242944,
          0.8118529685837865,
          0.19830574366650197,
          0.7711031411142493,
          0.3148283898165,
          0.8832692649385449,
          0.37874604999571493
         ],
         "yaxis": "y"
        }
       ],
       "layout": {
        "legend": {
         "title": {
          "text": "Hyperparameter Combination"
         },
         "tracegroupgap": 0
        },
        "template": {
         "data": {
          "bar": [
           {
            "error_x": {
             "color": "#2a3f5f"
            },
            "error_y": {
             "color": "#2a3f5f"
            },
            "marker": {
             "line": {
              "color": "#E5ECF6",
              "width": 0.5
             },
             "pattern": {
              "fillmode": "overlay",
              "size": 10,
              "solidity": 0.2
             }
            },
            "type": "bar"
           }
          ],
          "barpolar": [
           {
            "marker": {
             "line": {
              "color": "#E5ECF6",
              "width": 0.5
             },
             "pattern": {
              "fillmode": "overlay",
              "size": 10,
              "solidity": 0.2
             }
            },
            "type": "barpolar"
           }
          ],
          "carpet": [
           {
            "aaxis": {
             "endlinecolor": "#2a3f5f",
             "gridcolor": "white",
             "linecolor": "white",
             "minorgridcolor": "white",
             "startlinecolor": "#2a3f5f"
            },
            "baxis": {
             "endlinecolor": "#2a3f5f",
             "gridcolor": "white",
             "linecolor": "white",
             "minorgridcolor": "white",
             "startlinecolor": "#2a3f5f"
            },
            "type": "carpet"
           }
          ],
          "choropleth": [
           {
            "colorbar": {
             "outlinewidth": 0,
             "ticks": ""
            },
            "type": "choropleth"
           }
          ],
          "contour": [
           {
            "colorbar": {
             "outlinewidth": 0,
             "ticks": ""
            },
            "colorscale": [
             [
              0,
              "#0d0887"
             ],
             [
              0.1111111111111111,
              "#46039f"
             ],
             [
              0.2222222222222222,
              "#7201a8"
             ],
             [
              0.3333333333333333,
              "#9c179e"
             ],
             [
              0.4444444444444444,
              "#bd3786"
             ],
             [
              0.5555555555555556,
              "#d8576b"
             ],
             [
              0.6666666666666666,
              "#ed7953"
             ],
             [
              0.7777777777777778,
              "#fb9f3a"
             ],
             [
              0.8888888888888888,
              "#fdca26"
             ],
             [
              1,
              "#f0f921"
             ]
            ],
            "type": "contour"
           }
          ],
          "contourcarpet": [
           {
            "colorbar": {
             "outlinewidth": 0,
             "ticks": ""
            },
            "type": "contourcarpet"
           }
          ],
          "heatmap": [
           {
            "colorbar": {
             "outlinewidth": 0,
             "ticks": ""
            },
            "colorscale": [
             [
              0,
              "#0d0887"
             ],
             [
              0.1111111111111111,
              "#46039f"
             ],
             [
              0.2222222222222222,
              "#7201a8"
             ],
             [
              0.3333333333333333,
              "#9c179e"
             ],
             [
              0.4444444444444444,
              "#bd3786"
             ],
             [
              0.5555555555555556,
              "#d8576b"
             ],
             [
              0.6666666666666666,
              "#ed7953"
             ],
             [
              0.7777777777777778,
              "#fb9f3a"
             ],
             [
              0.8888888888888888,
              "#fdca26"
             ],
             [
              1,
              "#f0f921"
             ]
            ],
            "type": "heatmap"
           }
          ],
          "heatmapgl": [
           {
            "colorbar": {
             "outlinewidth": 0,
             "ticks": ""
            },
            "colorscale": [
             [
              0,
              "#0d0887"
             ],
             [
              0.1111111111111111,
              "#46039f"
             ],
             [
              0.2222222222222222,
              "#7201a8"
             ],
             [
              0.3333333333333333,
              "#9c179e"
             ],
             [
              0.4444444444444444,
              "#bd3786"
             ],
             [
              0.5555555555555556,
              "#d8576b"
             ],
             [
              0.6666666666666666,
              "#ed7953"
             ],
             [
              0.7777777777777778,
              "#fb9f3a"
             ],
             [
              0.8888888888888888,
              "#fdca26"
             ],
             [
              1,
              "#f0f921"
             ]
            ],
            "type": "heatmapgl"
           }
          ],
          "histogram": [
           {
            "marker": {
             "pattern": {
              "fillmode": "overlay",
              "size": 10,
              "solidity": 0.2
             }
            },
            "type": "histogram"
           }
          ],
          "histogram2d": [
           {
            "colorbar": {
             "outlinewidth": 0,
             "ticks": ""
            },
            "colorscale": [
             [
              0,
              "#0d0887"
             ],
             [
              0.1111111111111111,
              "#46039f"
             ],
             [
              0.2222222222222222,
              "#7201a8"
             ],
             [
              0.3333333333333333,
              "#9c179e"
             ],
             [
              0.4444444444444444,
              "#bd3786"
             ],
             [
              0.5555555555555556,
              "#d8576b"
             ],
             [
              0.6666666666666666,
              "#ed7953"
             ],
             [
              0.7777777777777778,
              "#fb9f3a"
             ],
             [
              0.8888888888888888,
              "#fdca26"
             ],
             [
              1,
              "#f0f921"
             ]
            ],
            "type": "histogram2d"
           }
          ],
          "histogram2dcontour": [
           {
            "colorbar": {
             "outlinewidth": 0,
             "ticks": ""
            },
            "colorscale": [
             [
              0,
              "#0d0887"
             ],
             [
              0.1111111111111111,
              "#46039f"
             ],
             [
              0.2222222222222222,
              "#7201a8"
             ],
             [
              0.3333333333333333,
              "#9c179e"
             ],
             [
              0.4444444444444444,
              "#bd3786"
             ],
             [
              0.5555555555555556,
              "#d8576b"
             ],
             [
              0.6666666666666666,
              "#ed7953"
             ],
             [
              0.7777777777777778,
              "#fb9f3a"
             ],
             [
              0.8888888888888888,
              "#fdca26"
             ],
             [
              1,
              "#f0f921"
             ]
            ],
            "type": "histogram2dcontour"
           }
          ],
          "mesh3d": [
           {
            "colorbar": {
             "outlinewidth": 0,
             "ticks": ""
            },
            "type": "mesh3d"
           }
          ],
          "parcoords": [
           {
            "line": {
             "colorbar": {
              "outlinewidth": 0,
              "ticks": ""
             }
            },
            "type": "parcoords"
           }
          ],
          "pie": [
           {
            "automargin": true,
            "type": "pie"
           }
          ],
          "scatter": [
           {
            "marker": {
             "colorbar": {
              "outlinewidth": 0,
              "ticks": ""
             }
            },
            "type": "scatter"
           }
          ],
          "scatter3d": [
           {
            "line": {
             "colorbar": {
              "outlinewidth": 0,
              "ticks": ""
             }
            },
            "marker": {
             "colorbar": {
              "outlinewidth": 0,
              "ticks": ""
             }
            },
            "type": "scatter3d"
           }
          ],
          "scattercarpet": [
           {
            "marker": {
             "colorbar": {
              "outlinewidth": 0,
              "ticks": ""
             }
            },
            "type": "scattercarpet"
           }
          ],
          "scattergeo": [
           {
            "marker": {
             "colorbar": {
              "outlinewidth": 0,
              "ticks": ""
             }
            },
            "type": "scattergeo"
           }
          ],
          "scattergl": [
           {
            "marker": {
             "colorbar": {
              "outlinewidth": 0,
              "ticks": ""
             }
            },
            "type": "scattergl"
           }
          ],
          "scattermapbox": [
           {
            "marker": {
             "colorbar": {
              "outlinewidth": 0,
              "ticks": ""
             }
            },
            "type": "scattermapbox"
           }
          ],
          "scatterpolar": [
           {
            "marker": {
             "colorbar": {
              "outlinewidth": 0,
              "ticks": ""
             }
            },
            "type": "scatterpolar"
           }
          ],
          "scatterpolargl": [
           {
            "marker": {
             "colorbar": {
              "outlinewidth": 0,
              "ticks": ""
             }
            },
            "type": "scatterpolargl"
           }
          ],
          "scatterternary": [
           {
            "marker": {
             "colorbar": {
              "outlinewidth": 0,
              "ticks": ""
             }
            },
            "type": "scatterternary"
           }
          ],
          "surface": [
           {
            "colorbar": {
             "outlinewidth": 0,
             "ticks": ""
            },
            "colorscale": [
             [
              0,
              "#0d0887"
             ],
             [
              0.1111111111111111,
              "#46039f"
             ],
             [
              0.2222222222222222,
              "#7201a8"
             ],
             [
              0.3333333333333333,
              "#9c179e"
             ],
             [
              0.4444444444444444,
              "#bd3786"
             ],
             [
              0.5555555555555556,
              "#d8576b"
             ],
             [
              0.6666666666666666,
              "#ed7953"
             ],
             [
              0.7777777777777778,
              "#fb9f3a"
             ],
             [
              0.8888888888888888,
              "#fdca26"
             ],
             [
              1,
              "#f0f921"
             ]
            ],
            "type": "surface"
           }
          ],
          "table": [
           {
            "cells": {
             "fill": {
              "color": "#EBF0F8"
             },
             "line": {
              "color": "white"
             }
            },
            "header": {
             "fill": {
              "color": "#C8D4E3"
             },
             "line": {
              "color": "white"
             }
            },
            "type": "table"
           }
          ]
         },
         "layout": {
          "annotationdefaults": {
           "arrowcolor": "#2a3f5f",
           "arrowhead": 0,
           "arrowwidth": 1
          },
          "autotypenumbers": "strict",
          "coloraxis": {
           "colorbar": {
            "outlinewidth": 0,
            "ticks": ""
           }
          },
          "colorscale": {
           "diverging": [
            [
             0,
             "#8e0152"
            ],
            [
             0.1,
             "#c51b7d"
            ],
            [
             0.2,
             "#de77ae"
            ],
            [
             0.3,
             "#f1b6da"
            ],
            [
             0.4,
             "#fde0ef"
            ],
            [
             0.5,
             "#f7f7f7"
            ],
            [
             0.6,
             "#e6f5d0"
            ],
            [
             0.7,
             "#b8e186"
            ],
            [
             0.8,
             "#7fbc41"
            ],
            [
             0.9,
             "#4d9221"
            ],
            [
             1,
             "#276419"
            ]
           ],
           "sequential": [
            [
             0,
             "#0d0887"
            ],
            [
             0.1111111111111111,
             "#46039f"
            ],
            [
             0.2222222222222222,
             "#7201a8"
            ],
            [
             0.3333333333333333,
             "#9c179e"
            ],
            [
             0.4444444444444444,
             "#bd3786"
            ],
            [
             0.5555555555555556,
             "#d8576b"
            ],
            [
             0.6666666666666666,
             "#ed7953"
            ],
            [
             0.7777777777777778,
             "#fb9f3a"
            ],
            [
             0.8888888888888888,
             "#fdca26"
            ],
            [
             1,
             "#f0f921"
            ]
           ],
           "sequentialminus": [
            [
             0,
             "#0d0887"
            ],
            [
             0.1111111111111111,
             "#46039f"
            ],
            [
             0.2222222222222222,
             "#7201a8"
            ],
            [
             0.3333333333333333,
             "#9c179e"
            ],
            [
             0.4444444444444444,
             "#bd3786"
            ],
            [
             0.5555555555555556,
             "#d8576b"
            ],
            [
             0.6666666666666666,
             "#ed7953"
            ],
            [
             0.7777777777777778,
             "#fb9f3a"
            ],
            [
             0.8888888888888888,
             "#fdca26"
            ],
            [
             1,
             "#f0f921"
            ]
           ]
          },
          "colorway": [
           "#636efa",
           "#EF553B",
           "#00cc96",
           "#ab63fa",
           "#FFA15A",
           "#19d3f3",
           "#FF6692",
           "#B6E880",
           "#FF97FF",
           "#FECB52"
          ],
          "font": {
           "color": "#2a3f5f"
          },
          "geo": {
           "bgcolor": "white",
           "lakecolor": "white",
           "landcolor": "#E5ECF6",
           "showlakes": true,
           "showland": true,
           "subunitcolor": "white"
          },
          "hoverlabel": {
           "align": "left"
          },
          "hovermode": "closest",
          "mapbox": {
           "style": "light"
          },
          "paper_bgcolor": "white",
          "plot_bgcolor": "#E5ECF6",
          "polar": {
           "angularaxis": {
            "gridcolor": "white",
            "linecolor": "white",
            "ticks": ""
           },
           "bgcolor": "#E5ECF6",
           "radialaxis": {
            "gridcolor": "white",
            "linecolor": "white",
            "ticks": ""
           }
          },
          "scene": {
           "xaxis": {
            "backgroundcolor": "#E5ECF6",
            "gridcolor": "white",
            "gridwidth": 2,
            "linecolor": "white",
            "showbackground": true,
            "ticks": "",
            "zerolinecolor": "white"
           },
           "yaxis": {
            "backgroundcolor": "#E5ECF6",
            "gridcolor": "white",
            "gridwidth": 2,
            "linecolor": "white",
            "showbackground": true,
            "ticks": "",
            "zerolinecolor": "white"
           },
           "zaxis": {
            "backgroundcolor": "#E5ECF6",
            "gridcolor": "white",
            "gridwidth": 2,
            "linecolor": "white",
            "showbackground": true,
            "ticks": "",
            "zerolinecolor": "white"
           }
          },
          "shapedefaults": {
           "line": {
            "color": "#2a3f5f"
           }
          },
          "ternary": {
           "aaxis": {
            "gridcolor": "white",
            "linecolor": "white",
            "ticks": ""
           },
           "baxis": {
            "gridcolor": "white",
            "linecolor": "white",
            "ticks": ""
           },
           "bgcolor": "#E5ECF6",
           "caxis": {
            "gridcolor": "white",
            "linecolor": "white",
            "ticks": ""
           }
          },
          "title": {
           "x": 0.05
          },
          "xaxis": {
           "automargin": true,
           "gridcolor": "white",
           "linecolor": "white",
           "ticks": "",
           "title": {
            "standoff": 15
           },
           "zerolinecolor": "white",
           "zerolinewidth": 2
          },
          "yaxis": {
           "automargin": true,
           "gridcolor": "white",
           "linecolor": "white",
           "ticks": "",
           "title": {
            "standoff": 15
           },
           "zerolinecolor": "white",
           "zerolinewidth": 2
          }
         }
        },
        "title": {
         "text": "Metric Scores for Each Unique Hyperparameter Combination"
        },
        "xaxis": {
         "anchor": "y",
         "domain": [
          0,
          1
         ],
         "title": {
          "text": "Metric"
         }
        },
        "yaxis": {
         "anchor": "x",
         "domain": [
          0,
          1
         ],
         "title": {
          "text": "Score"
         }
        }
       }
      }
     },
     "metadata": {},
     "output_type": "display_data"
    }
   ],
   "source": [
    "fig = px.line(long_metrics_df, x='Metric', y='Score',\n",
    "              color='legend_label',\n",
    "              labels={'Metric': 'Metric', 'Score': 'Score', 'legend_label': 'Hyperparameter Combination'},\n",
    "              title='Metric Scores for Each Unique Hyperparameter Combination')\n",
    "fig.show()"
   ]
  },
  {
   "cell_type": "markdown",
   "metadata": {},
   "source": [
    "##### Static Plot"
   ]
  },
  {
   "cell_type": "code",
   "execution_count": 235,
   "metadata": {},
   "outputs": [
    {
     "data": {
      "image/png": "[encoded data removed]",
      "text/plain": [
       "<Figure size 720x432 with 1 Axes>"
      ]
     },
     "metadata": {
      "needs_background": "light"
     },
     "output_type": "display_data"
    }
   ],
   "source": [
    "plt.figure(figsize=(10, 6))\n",
    "\n",
    "for group_name, group_data in metrics_df.groupby([\"base_estimator\", \"n_estimators\", \"learning_rate\"]):\n",
    "    decision_tree_depth = group_name[0][-2]\n",
    "    n_estimators = str(group_name[1])\n",
    "    learning_rate = str(group_name[2])\n",
    "    label = \"decision_tree_depth=\" + decision_tree_depth + \", \" + \"n_estimators=\" + n_estimators + \", \" + \"learning_rate=\" + learning_rate\n",
    "    metrics = group_data.loc[:,\"accuracy\":\"average_precision\"]\n",
    "    plt.plot(range(len(metrics.columns)), metrics.values[0], label=label)\n",
    "\n",
    "plt.legend(title=\"Hyperparameter Combinations\", bbox_to_anchor=(1.05, 1), loc=\"upper left\")\n",
    "plt.ylabel(\"Score\")\n",
    "plt.title(\"Metric Scores for Each Unique Hyperparameter Combination\")\n",
    "plt.show()"
   ]
  },
  {
   "cell_type": "markdown",
   "metadata": {},
   "source": [
    "## Model Selection"
   ]
  },
  {
   "cell_type": "markdown",
   "metadata": {},
   "source": [
    "From the interactive plot, we select the model with decision_tree_depth=2, n_estimators=100, learning_rate=1.0 for now."
   ]
  },
  {
   "cell_type": "code",
   "execution_count": 299,
   "metadata": {},
   "outputs": [
    {
     "data": {
      "text/html": [
       "<div>\n",
       "<style scoped>\n",
       "    .dataframe tbody tr th:only-of-type {\n",
       "        vertical-align: middle;\n",
       "    }\n",
       "\n",
       "    .dataframe tbody tr th {\n",
       "        vertical-align: top;\n",
       "    }\n",
       "\n",
       "    .dataframe thead th {\n",
       "        text-align: right;\n",
       "    }\n",
       "</style>\n",
       "<table border=\"1\" class=\"dataframe\">\n",
       "  <thead>\n",
       "    <tr style=\"text-align: right;\">\n",
       "      <th></th>\n",
       "      <th>Metric</th>\n",
       "      <th>Score</th>\n",
       "    </tr>\n",
       "  </thead>\n",
       "  <tbody>\n",
       "    <tr>\n",
       "      <th>0</th>\n",
       "      <td>accuracy</td>\n",
       "      <td>0.848898</td>\n",
       "    </tr>\n",
       "    <tr>\n",
       "      <th>1</th>\n",
       "      <td>balanced_accuracy</td>\n",
       "      <td>0.811853</td>\n",
       "    </tr>\n",
       "    <tr>\n",
       "      <th>2</th>\n",
       "      <td>precision</td>\n",
       "      <td>0.198306</td>\n",
       "    </tr>\n",
       "    <tr>\n",
       "      <th>3</th>\n",
       "      <td>recall</td>\n",
       "      <td>0.771103</td>\n",
       "    </tr>\n",
       "    <tr>\n",
       "      <th>4</th>\n",
       "      <td>f1</td>\n",
       "      <td>0.314828</td>\n",
       "    </tr>\n",
       "    <tr>\n",
       "      <th>5</th>\n",
       "      <td>roc_auc</td>\n",
       "      <td>0.883269</td>\n",
       "    </tr>\n",
       "    <tr>\n",
       "      <th>6</th>\n",
       "      <td>average_precision</td>\n",
       "      <td>0.378746</td>\n",
       "    </tr>\n",
       "  </tbody>\n",
       "</table>\n",
       "</div>"
      ],
      "text/plain": [
       "              Metric     Score\n",
       "0           accuracy  0.848898\n",
       "1  balanced_accuracy  0.811853\n",
       "2          precision  0.198306\n",
       "3             recall  0.771103\n",
       "4                 f1  0.314828\n",
       "5            roc_auc  0.883269\n",
       "6  average_precision  0.378746"
      ]
     },
     "execution_count": 299,
     "metadata": {},
     "output_type": "execute_result"
    }
   ],
   "source": [
    "long_metrics_df[long_metrics_df[\"legend_label\"]==\"decision_tree_depth=2, n_estimators=100, learning_rate=1.0\"].loc[:,\"Metric\":].reset_index(drop=True)"
   ]
  },
  {
   "cell_type": "markdown",
   "metadata": {},
   "source": [
    "##### AUC-ROC Curve and Precision-Recall Curve (5-Fold)"
   ]
  },
  {
   "cell_type": "code",
   "execution_count": 300,
   "metadata": {},
   "outputs": [],
   "source": [
    "# selected model is the last combination\n",
    "selected_model_prob = [i[-1] for i in preds]"
   ]
  },
  {
   "cell_type": "code",
   "execution_count": 301,
   "metadata": {},
   "outputs": [
    {
     "data": {
      "image/png": "[encoded data removed]",
      "text/plain": [
       "<Figure size 432x432 with 1 Axes>"
      ]
     },
     "metadata": {
      "needs_background": "light"
     },
     "output_type": "display_data"
    }
   ],
   "source": [
    "fig, ax = plt.subplots(figsize=(6, 6))\n",
    "fold_colors = [\"blue\",\"orange\",\"green\",\"purple\",\"brown\"]\n",
    "\n",
    "\n",
    "for i in range(num_folds):\n",
    "    test_data = data[data[\"folds\"]==i+1]\n",
    "    y_test = test_data.loc[:, \"label\"]\n",
    "    y_pred_probs = selected_model_prob[i]\n",
    "\n",
    "    fpr, tpr, thresholds = roc_curve(y_test, y_pred_probs)\n",
    "    roc_auc = auc(fpr, tpr)\n",
    "    plt.plot(fpr, tpr, color=fold_colors[i], lw=0.5, alpha=0.8, label=f'ROC fold {i+1} (AUC = {roc_auc:.2f})')\n",
    "\n",
    "\n",
    "plt.plot([0, 1], [0, 1], color='black', lw=2, linestyle='--', label=\"Chance Level (AUC = 0.5)\")\n",
    "plt.legend(loc='lower right')\n",
    "plt.xlabel('False Positive Rate')\n",
    "plt.ylabel('True Positive Rate')\n",
    "plt.title('Mean ROC Curve')\n",
    "plt.xlim([0.0, 1.0])\n",
    "plt.ylim([0.0, 1.05])\n",
    "plt.show()"
   ]
  },
  {
   "cell_type": "code",
   "execution_count": 302,
   "metadata": {},
   "outputs": [
    {
     "data": {
      "image/png": "[encoded data removed]",
      "text/plain": [
       "<Figure size 432x432 with 1 Axes>"
      ]
     },
     "metadata": {
      "needs_background": "light"
     },
     "output_type": "display_data"
    }
   ],
   "source": [
    "fig, ax = plt.subplots(figsize=(6, 6))\n",
    "fold_colors = [\"blue\",\"orange\",\"green\",\"purple\",\"brown\"]\n",
    "\n",
    "\n",
    "for i in range(num_folds):\n",
    "    test_data = data[data[\"folds\"]==i+1]\n",
    "    y_test = test_data.loc[:, \"label\"]\n",
    "    y_pred_probs = selected_model_prob[i]\n",
    "\n",
    "    precision, recall, _ = precision_recall_curve(y_test, y_pred_probs)\n",
    "    pr_auc = average_precision_score(y_test, y_pred_probs)    \n",
    "    plt.plot(recall, precision, color=fold_colors[i], lw=0.5, alpha=0.8, label=f'Precision-Recall fold {i+1} (AUC = {pr_auc:.2f})')\n",
    "\n",
    "\n",
    "plt.legend(loc='upper right')\n",
    "plt.xlabel('Recall')\n",
    "plt.ylabel('Precision')\n",
    "plt.title('Mean Precision-Recall Curve')\n",
    "plt.xlim([0.0, 1.0])\n",
    "plt.ylim([0.0, 1.05])\n",
    "plt.show()"
   ]
  },
  {
   "cell_type": "markdown",
   "metadata": {},
   "source": [
    "# Extras"
   ]
  },
  {
   "cell_type": "markdown",
   "metadata": {},
   "source": [
    "## Hyperparameter Tuning with GridSearch "
   ]
  },
  {
   "cell_type": "markdown",
   "metadata": {},
   "source": [
    "An alternative approach is to employ GridSearch for automated hyperparameter tuning. However, it lacks the capability to integrate the sample weights computed for each cross-validation fold."
   ]
  },
  {
   "cell_type": "code",
   "execution_count": 92,
   "metadata": {},
   "outputs": [
    {
     "name": "stdout",
     "output_type": "stream",
     "text": [
      "Best Hyperparameters: {'base_estimator': DecisionTreeClassifier(max_depth=2), 'learning_rate': 0.1, 'n_estimators': 100}\n"
     ]
    }
   ],
   "source": [
    "X = data.loc[:, \"time_1_mean\":\"mean_current_3_min\"]\n",
    "y = data.loc[:, \"label\"]\n",
    "\n",
    "\n",
    "custom_cv_splits = []\n",
    "for fold_id in range(1, 6):\n",
    "    train_indices = data[data['folds'] != fold_id].index\n",
    "    test_indices = data[data['folds'] == fold_id].index\n",
    "    custom_cv_splits.append((train_indices, test_indices))\n",
    "    \n",
    "    # minority_perc = sum(y[train_indices]==1) / len(train_indices)\n",
    "    # class_weights = {0: 1.0, 1: 1/minority_perc}\n",
    "    # sample_weights = np.array([class_weights[y] for y in data.loc[train_indices, 'label']])\n",
    "    # custom_cv_splits.append((train_indices, test_indices, sample_weights))\n",
    "\n",
    "\n",
    "param_grid = {\n",
    "    'base_estimator': [DecisionTreeClassifier(max_depth=1), DecisionTreeClassifier(max_depth=2)],\n",
    "    'n_estimators': [50, 100],\n",
    "    'learning_rate': [0.01, 0.1, 1.0]\n",
    "}\n",
    "\n",
    "\n",
    "adaboost_classifier = AdaBoostClassifier(random_state=seed)\n",
    "grid_search = GridSearchCV(adaboost_classifier, param_grid, cv=custom_cv_splits, scoring='average_precision', n_jobs=-1)\n",
    "grid_search.fit(X, y)\n",
    "\n",
    "\n",
    "# get the best hyperparameters\n",
    "best_params = grid_search.best_params_\n",
    "print(\"Best Hyperparameters:\", best_params)"
   ]
  }
 ],
 "metadata": {
  "kernelspec": {
   "display_name": "base",
   "language": "python",
   "name": "python3"
  },
  "language_info": {
   "codemirror_mode": {
    "name": "ipython",
    "version": 3
   },
   "file_extension": ".py",
   "mimetype": "text/x-python",
   "name": "python",
   "nbconvert_exporter": "python",
   "pygments_lexer": "ipython3",
   "version": "3.9.7"
  }
 },
 "nbformat": 4,
 "nbformat_minor": 2
}
